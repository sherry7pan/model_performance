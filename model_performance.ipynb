{
 "cells": [
  {
   "cell_type": "markdown",
   "metadata": {},
   "source": [
    "## Loading Libraries"
   ]
  },
  {
   "cell_type": "code",
   "execution_count": 23,
   "metadata": {
    "collapsed": false
   },
   "outputs": [],
   "source": [
    "from itertools import cycle\n",
    "import numpy as np\n",
    "import matplotlib.pyplot as plt\n",
    "import pandas as pd\n",
    "import seaborn as sns\n",
    "from collections import Counter\n",
    "from scipy import interp\n",
    "from sklearn.metrics import roc_auc_score, roc_curve, auc\n",
    "from sklearn.grid_search import GridSearchCV\n",
    "from sklearn.ensemble import RandomForestClassifier \n",
    "from sklearn.ensemble import GradientBoostingClassifier \n",
    "from sklearn.cross_validation import train_test_split, cross_val_score\n",
    "from sklearn.model_selection import StratifiedKFold"
   ]
  },
  {
   "cell_type": "markdown",
   "metadata": {},
   "source": [
    "## Setting Options"
   ]
  },
  {
   "cell_type": "code",
   "execution_count": 2,
   "metadata": {
    "collapsed": true
   },
   "outputs": [],
   "source": [
    "pd.options.display.max_columns = 100\n",
    "plt.style.use('fivethirtyeight')\n",
    "\n",
    "%matplotlib inline"
   ]
  },
  {
   "cell_type": "markdown",
   "metadata": {},
   "source": [
    "## Preparing Data"
   ]
  },
  {
   "cell_type": "code",
   "execution_count": 3,
   "metadata": {
    "collapsed": false
   },
   "outputs": [],
   "source": [
    "df_train = pd.read_csv('train.csv')"
   ]
  },
  {
   "cell_type": "code",
   "execution_count": 4,
   "metadata": {
    "collapsed": false
   },
   "outputs": [
    {
     "name": "stdout",
     "output_type": "stream",
     "text": [
      "<class 'pandas.core.frame.DataFrame'>\n",
      "RangeIndex: 10000 entries, 0 to 9999\n",
      "Data columns (total 10 columns):\n",
      "age                           10000 non-null int64\n",
      "cost_of_ad                    10000 non-null float64\n",
      "device_type                   10000 non-null object\n",
      "gender                        9731 non-null object\n",
      "in_initial_launch_location    10000 non-null int64\n",
      "income                        10000 non-null int64\n",
      "n_drivers                     10000 non-null int64\n",
      "n_vehicles                    10000 non-null int64\n",
      "prior_ins_tenure              10000 non-null int64\n",
      "outcome                       10000 non-null int64\n",
      "dtypes: float64(1), int64(7), object(2)\n",
      "memory usage: 781.3+ KB\n"
     ]
    }
   ],
   "source": [
    "df_train.info() #over 200 missing values found for column gender."
   ]
  },
  {
   "cell_type": "code",
   "execution_count": 5,
   "metadata": {
    "collapsed": false
   },
   "outputs": [
    {
     "data": {
      "text/html": [
       "<div>\n",
       "<table border=\"1\" class=\"dataframe\">\n",
       "  <thead>\n",
       "    <tr style=\"text-align: right;\">\n",
       "      <th></th>\n",
       "      <th>count</th>\n",
       "      <th>mean</th>\n",
       "      <th>std</th>\n",
       "      <th>min</th>\n",
       "      <th>25%</th>\n",
       "      <th>50%</th>\n",
       "      <th>75%</th>\n",
       "      <th>max</th>\n",
       "    </tr>\n",
       "  </thead>\n",
       "  <tbody>\n",
       "    <tr>\n",
       "      <th>age</th>\n",
       "      <td>10000.0</td>\n",
       "      <td>37.991800</td>\n",
       "      <td>13.038203</td>\n",
       "      <td>16.000000</td>\n",
       "      <td>27.000000</td>\n",
       "      <td>38.000000</td>\n",
       "      <td>49.000000</td>\n",
       "      <td>60.000000</td>\n",
       "    </tr>\n",
       "    <tr>\n",
       "      <th>cost_of_ad</th>\n",
       "      <td>10000.0</td>\n",
       "      <td>0.004666</td>\n",
       "      <td>0.000838</td>\n",
       "      <td>0.003171</td>\n",
       "      <td>0.003995</td>\n",
       "      <td>0.004625</td>\n",
       "      <td>0.005164</td>\n",
       "      <td>0.007082</td>\n",
       "    </tr>\n",
       "    <tr>\n",
       "      <th>in_initial_launch_location</th>\n",
       "      <td>10000.0</td>\n",
       "      <td>0.497500</td>\n",
       "      <td>0.500019</td>\n",
       "      <td>0.000000</td>\n",
       "      <td>0.000000</td>\n",
       "      <td>0.000000</td>\n",
       "      <td>1.000000</td>\n",
       "      <td>1.000000</td>\n",
       "    </tr>\n",
       "    <tr>\n",
       "      <th>income</th>\n",
       "      <td>10000.0</td>\n",
       "      <td>58004.335800</td>\n",
       "      <td>17330.778355</td>\n",
       "      <td>16241.000000</td>\n",
       "      <td>45533.500000</td>\n",
       "      <td>58053.500000</td>\n",
       "      <td>70235.250000</td>\n",
       "      <td>99956.000000</td>\n",
       "    </tr>\n",
       "    <tr>\n",
       "      <th>n_drivers</th>\n",
       "      <td>10000.0</td>\n",
       "      <td>1.497000</td>\n",
       "      <td>0.500016</td>\n",
       "      <td>1.000000</td>\n",
       "      <td>1.000000</td>\n",
       "      <td>1.000000</td>\n",
       "      <td>2.000000</td>\n",
       "      <td>2.000000</td>\n",
       "    </tr>\n",
       "    <tr>\n",
       "      <th>n_vehicles</th>\n",
       "      <td>10000.0</td>\n",
       "      <td>2.002200</td>\n",
       "      <td>0.817840</td>\n",
       "      <td>1.000000</td>\n",
       "      <td>1.000000</td>\n",
       "      <td>2.000000</td>\n",
       "      <td>3.000000</td>\n",
       "      <td>3.000000</td>\n",
       "    </tr>\n",
       "    <tr>\n",
       "      <th>prior_ins_tenure</th>\n",
       "      <td>10000.0</td>\n",
       "      <td>5.406800</td>\n",
       "      <td>5.046014</td>\n",
       "      <td>0.000000</td>\n",
       "      <td>1.000000</td>\n",
       "      <td>4.000000</td>\n",
       "      <td>8.000000</td>\n",
       "      <td>22.000000</td>\n",
       "    </tr>\n",
       "    <tr>\n",
       "      <th>outcome</th>\n",
       "      <td>10000.0</td>\n",
       "      <td>0.098200</td>\n",
       "      <td>0.297600</td>\n",
       "      <td>0.000000</td>\n",
       "      <td>0.000000</td>\n",
       "      <td>0.000000</td>\n",
       "      <td>0.000000</td>\n",
       "      <td>1.000000</td>\n",
       "    </tr>\n",
       "  </tbody>\n",
       "</table>\n",
       "</div>"
      ],
      "text/plain": [
       "                              count          mean           std           min  \\\n",
       "age                         10000.0     37.991800     13.038203     16.000000   \n",
       "cost_of_ad                  10000.0      0.004666      0.000838      0.003171   \n",
       "in_initial_launch_location  10000.0      0.497500      0.500019      0.000000   \n",
       "income                      10000.0  58004.335800  17330.778355  16241.000000   \n",
       "n_drivers                   10000.0      1.497000      0.500016      1.000000   \n",
       "n_vehicles                  10000.0      2.002200      0.817840      1.000000   \n",
       "prior_ins_tenure            10000.0      5.406800      5.046014      0.000000   \n",
       "outcome                     10000.0      0.098200      0.297600      0.000000   \n",
       "\n",
       "                                     25%           50%           75%  \\\n",
       "age                            27.000000     38.000000     49.000000   \n",
       "cost_of_ad                      0.003995      0.004625      0.005164   \n",
       "in_initial_launch_location      0.000000      0.000000      1.000000   \n",
       "income                      45533.500000  58053.500000  70235.250000   \n",
       "n_drivers                       1.000000      1.000000      2.000000   \n",
       "n_vehicles                      1.000000      2.000000      3.000000   \n",
       "prior_ins_tenure                1.000000      4.000000      8.000000   \n",
       "outcome                         0.000000      0.000000      0.000000   \n",
       "\n",
       "                                     max  \n",
       "age                            60.000000  \n",
       "cost_of_ad                      0.007082  \n",
       "in_initial_launch_location      1.000000  \n",
       "income                      99956.000000  \n",
       "n_drivers                       2.000000  \n",
       "n_vehicles                      3.000000  \n",
       "prior_ins_tenure               22.000000  \n",
       "outcome                         1.000000  "
      ]
     },
     "execution_count": 5,
     "metadata": {},
     "output_type": "execute_result"
    }
   ],
   "source": [
    "df_train.describe().T"
   ]
  },
  {
   "cell_type": "code",
   "execution_count": 6,
   "metadata": {
    "collapsed": false
   },
   "outputs": [
    {
     "data": {
      "text/plain": [
       "0    9018\n",
       "1     982\n",
       "Name: outcome, dtype: int64"
      ]
     },
     "execution_count": 6,
     "metadata": {},
     "output_type": "execute_result"
    }
   ],
   "source": [
    "#check for class imbalance\n",
    "df_train['outcome'].value_counts()"
   ]
  },
  {
   "cell_type": "markdown",
   "metadata": {},
   "source": [
    "As shown, we have a very imbalanced class. Since we have only 10,000 observations to train the model, let's use oversampling to address this problem."
   ]
  },
  {
   "cell_type": "code",
   "execution_count": 7,
   "metadata": {
    "collapsed": false
   },
   "outputs": [],
   "source": [
    "df_positive = df_train[df_train['outcome'] ==1]\n",
    "df_negative = df_train[df_train['outcome'] ==0]"
   ]
  },
  {
   "cell_type": "markdown",
   "metadata": {},
   "source": [
    "### Functions for Data Visualization"
   ]
  },
  {
   "cell_type": "code",
   "execution_count": 8,
   "metadata": {
    "collapsed": false
   },
   "outputs": [],
   "source": [
    "def stack_plot(df_all,df_positive,feature,colour1, colour2):\n",
    "    print 'all cases count'\n",
    "    print df_all[feature].value_counts().sort_index()\n",
    "    print 'positive cases count'\n",
    "    print df_positive[feature].value_counts().sort_index()\n",
    "    plt.figure(figsize=(8,4))\n",
    "    barlabels = list(df_all[feature].value_counts().sort_index().index)\n",
    "    plt.bar(range(len(barlabels)),df_all[feature].value_counts().sort_index(), color = colour1)\n",
    "    plt.bar(range(len(barlabels)),df_positive[feature].value_counts().sort_index(), color = colour2)\n",
    "    plt.xticks(range(len(barlabels)), barlabels, rotation=45);\n",
    "    plt.xlabel(feature)\n",
    "    plt.ylabel('count')\n",
    "   "
   ]
  },
  {
   "cell_type": "code",
   "execution_count": 9,
   "metadata": {
    "collapsed": false
   },
   "outputs": [
    {
     "name": "stdout",
     "output_type": "stream",
     "text": [
      "all cases count\n",
      "0     1648\n",
      "1     1159\n",
      "2      995\n",
      "3      801\n",
      "4      734\n",
      "5      642\n",
      "6      627\n",
      "7      510\n",
      "8      411\n",
      "9      411\n",
      "10     328\n",
      "11     299\n",
      "12     279\n",
      "13     240\n",
      "14     214\n",
      "15     155\n",
      "16     153\n",
      "17     133\n",
      "18     101\n",
      "19      75\n",
      "20      51\n",
      "21      27\n",
      "22       7\n",
      "Name: prior_ins_tenure, dtype: int64\n",
      "positive cases count\n",
      "0     178\n",
      "1     151\n",
      "2      98\n",
      "3      81\n",
      "4      64\n",
      "5      71\n",
      "6      51\n",
      "7      32\n",
      "8      32\n",
      "9      46\n",
      "10     20\n",
      "11     29\n",
      "12     22\n",
      "13     21\n",
      "14     24\n",
      "15     11\n",
      "16     16\n",
      "17     12\n",
      "18      8\n",
      "19      7\n",
      "20      4\n",
      "21      3\n",
      "22      1\n",
      "Name: prior_ins_tenure, dtype: int64\n"
     ]
    },
    {
     "data": {
      "image/png": "[encoded data removed]",
      "text/plain": [
       "<matplotlib.figure.Figure at 0x1155f1c90>"
      ]
     },
     "metadata": {},
     "output_type": "display_data"
    }
   ],
   "source": [
    "stack_plot(df_train,df_positive,'prior_ins_tenure','blue', 'green')"
   ]
  },
  {
   "cell_type": "code",
   "execution_count": 10,
   "metadata": {
    "collapsed": false
   },
   "outputs": [
    {
     "name": "stdout",
     "output_type": "stream",
     "text": [
      "all cases count\n",
      "1    5030\n",
      "2    4970\n",
      "Name: n_drivers, dtype: int64\n",
      "positive cases count\n",
      "1    345\n",
      "2    637\n",
      "Name: n_drivers, dtype: int64\n"
     ]
    },
    {
     "data": {
      "image/png": "[encoded data removed]",
      "text/plain": [
       "<matplotlib.figure.Figure at 0x115e15850>"
      ]
     },
     "metadata": {},
     "output_type": "display_data"
    }
   ],
   "source": [
    "stack_plot(df_train,df_positive,'n_drivers','blue', 'green')"
   ]
  },
  {
   "cell_type": "code",
   "execution_count": 11,
   "metadata": {
    "collapsed": false
   },
   "outputs": [
    {
     "name": "stdout",
     "output_type": "stream",
     "text": [
      "all cases count\n",
      "1    3333\n",
      "2    3312\n",
      "3    3355\n",
      "Name: n_vehicles, dtype: int64\n",
      "positive cases count\n",
      "1    608\n",
      "2    234\n",
      "3    140\n",
      "Name: n_vehicles, dtype: int64\n"
     ]
    },
    {
     "data": {
      "image/png": "[encoded data removed]",
      "text/plain": [
       "<matplotlib.figure.Figure at 0x116173a10>"
      ]
     },
     "metadata": {},
     "output_type": "display_data"
    }
   ],
   "source": [
    "stack_plot(df_train,df_positive,'n_vehicles','blue', 'green')"
   ]
  },
  {
   "cell_type": "code",
   "execution_count": 12,
   "metadata": {
    "collapsed": false
   },
   "outputs": [
    {
     "name": "stdout",
     "output_type": "stream",
     "text": [
      "all cases count\n",
      "0    5025\n",
      "1    4975\n",
      "Name: in_initial_launch_location, dtype: int64\n",
      "positive cases count\n",
      "0    320\n",
      "1    662\n",
      "Name: in_initial_launch_location, dtype: int64\n"
     ]
    },
    {
     "data": {
      "image/png": "[encoded data removed]",
      "text/plain": [
       "<matplotlib.figure.Figure at 0x11613b090>"
      ]
     },
     "metadata": {},
     "output_type": "display_data"
    }
   ],
   "source": [
    "stack_plot(df_train,df_positive,'in_initial_launch_location','blue', 'green')"
   ]
  },
  {
   "cell_type": "code",
   "execution_count": 13,
   "metadata": {
    "collapsed": false
   },
   "outputs": [
    {
     "name": "stdout",
     "output_type": "stream",
     "text": [
      "<class 'pandas.core.frame.DataFrame'>\n",
      "Int64Index: 9731 entries, 0 to 9998\n",
      "Data columns (total 10 columns):\n",
      "age                           9731 non-null int64\n",
      "cost_of_ad                    9731 non-null float64\n",
      "device_type                   9731 non-null object\n",
      "gender                        9731 non-null object\n",
      "in_initial_launch_location    9731 non-null int64\n",
      "income                        9731 non-null int64\n",
      "n_drivers                     9731 non-null int64\n",
      "n_vehicles                    9731 non-null int64\n",
      "prior_ins_tenure              9731 non-null int64\n",
      "outcome                       9731 non-null int64\n",
      "dtypes: float64(1), int64(7), object(2)\n",
      "memory usage: 836.3+ KB\n"
     ]
    }
   ],
   "source": [
    "# since the missing values account for less than 3% of our data, I drop the entries with missing values.\n",
    "df_train= df_train[df_train['gender'].notnull()]\n",
    "\n",
    "df_train.info()"
   ]
  },
  {
   "cell_type": "code",
   "execution_count": 14,
   "metadata": {
    "collapsed": false
   },
   "outputs": [
    {
     "data": {
      "text/html": [
       "<div>\n",
       "<table border=\"1\" class=\"dataframe\">\n",
       "  <thead>\n",
       "    <tr style=\"text-align: right;\">\n",
       "      <th></th>\n",
       "      <th>age</th>\n",
       "      <th>cost_of_ad</th>\n",
       "      <th>device_type</th>\n",
       "      <th>gender</th>\n",
       "      <th>in_initial_launch_location</th>\n",
       "      <th>income</th>\n",
       "      <th>n_drivers</th>\n",
       "      <th>n_vehicles</th>\n",
       "      <th>prior_ins_tenure</th>\n",
       "      <th>outcome</th>\n",
       "    </tr>\n",
       "  </thead>\n",
       "  <tbody>\n",
       "    <tr>\n",
       "      <th>0</th>\n",
       "      <td>56</td>\n",
       "      <td>0.005737</td>\n",
       "      <td>iPhone</td>\n",
       "      <td>M</td>\n",
       "      <td>0</td>\n",
       "      <td>62717</td>\n",
       "      <td>2</td>\n",
       "      <td>1</td>\n",
       "      <td>4</td>\n",
       "      <td>0</td>\n",
       "    </tr>\n",
       "    <tr>\n",
       "      <th>1</th>\n",
       "      <td>50</td>\n",
       "      <td>0.004733</td>\n",
       "      <td>desktop</td>\n",
       "      <td>F</td>\n",
       "      <td>0</td>\n",
       "      <td>64328</td>\n",
       "      <td>2</td>\n",
       "      <td>3</td>\n",
       "      <td>2</td>\n",
       "      <td>0</td>\n",
       "    </tr>\n",
       "    <tr>\n",
       "      <th>2</th>\n",
       "      <td>54</td>\n",
       "      <td>0.004129</td>\n",
       "      <td>laptop</td>\n",
       "      <td>M</td>\n",
       "      <td>0</td>\n",
       "      <td>83439</td>\n",
       "      <td>1</td>\n",
       "      <td>3</td>\n",
       "      <td>7</td>\n",
       "      <td>0</td>\n",
       "    </tr>\n",
       "    <tr>\n",
       "      <th>3</th>\n",
       "      <td>16</td>\n",
       "      <td>0.005117</td>\n",
       "      <td>Android</td>\n",
       "      <td>F</td>\n",
       "      <td>0</td>\n",
       "      <td>30110</td>\n",
       "      <td>2</td>\n",
       "      <td>3</td>\n",
       "      <td>0</td>\n",
       "      <td>0</td>\n",
       "    </tr>\n",
       "    <tr>\n",
       "      <th>4</th>\n",
       "      <td>37</td>\n",
       "      <td>0.003635</td>\n",
       "      <td>desktop</td>\n",
       "      <td>M</td>\n",
       "      <td>0</td>\n",
       "      <td>76565</td>\n",
       "      <td>2</td>\n",
       "      <td>1</td>\n",
       "      <td>5</td>\n",
       "      <td>0</td>\n",
       "    </tr>\n",
       "  </tbody>\n",
       "</table>\n",
       "</div>"
      ],
      "text/plain": [
       "   age  cost_of_ad device_type gender  in_initial_launch_location  income  \\\n",
       "0   56    0.005737      iPhone      M                           0   62717   \n",
       "1   50    0.004733     desktop      F                           0   64328   \n",
       "2   54    0.004129      laptop      M                           0   83439   \n",
       "3   16    0.005117     Android      F                           0   30110   \n",
       "4   37    0.003635     desktop      M                           0   76565   \n",
       "\n",
       "   n_drivers  n_vehicles  prior_ins_tenure  outcome  \n",
       "0          2           1                 4        0  \n",
       "1          2           3                 2        0  \n",
       "2          1           3                 7        0  \n",
       "3          2           3                 0        0  \n",
       "4          2           1                 5        0  "
      ]
     },
     "execution_count": 14,
     "metadata": {},
     "output_type": "execute_result"
    }
   ],
   "source": [
    "df_train.head()"
   ]
  },
  {
   "cell_type": "markdown",
   "metadata": {},
   "source": [
    "### Feature Engineering Exploration"
   ]
  },
  {
   "cell_type": "code",
   "execution_count": 15,
   "metadata": {
    "collapsed": false
   },
   "outputs": [
    {
     "data": {
      "text/html": [
       "<div>\n",
       "<table border=\"1\" class=\"dataframe\">\n",
       "  <thead>\n",
       "    <tr style=\"text-align: right;\">\n",
       "      <th>n_vehicles</th>\n",
       "      <th>1.0</th>\n",
       "      <th>2.0</th>\n",
       "      <th>3.0</th>\n",
       "    </tr>\n",
       "    <tr>\n",
       "      <th>n_drivers</th>\n",
       "      <th></th>\n",
       "      <th></th>\n",
       "      <th></th>\n",
       "    </tr>\n",
       "  </thead>\n",
       "  <tbody>\n",
       "    <tr>\n",
       "      <th>1.0</th>\n",
       "      <td>214</td>\n",
       "      <td>80</td>\n",
       "      <td>47</td>\n",
       "    </tr>\n",
       "    <tr>\n",
       "      <th>2.0</th>\n",
       "      <td>390</td>\n",
       "      <td>153</td>\n",
       "      <td>89</td>\n",
       "    </tr>\n",
       "  </tbody>\n",
       "</table>\n",
       "</div>"
      ],
      "text/plain": [
       "n_vehicles  1.0  2.0  3.0\n",
       "n_drivers                \n",
       "1.0         214   80   47\n",
       "2.0         390  153   89"
      ]
     },
     "execution_count": 15,
     "metadata": {},
     "output_type": "execute_result"
    }
   ],
   "source": [
    "pd.crosstab(df_train['n_drivers'],df_train['n_vehicles'])\n",
    "\n",
    "pd.crosstab(df_positive['n_drivers'],df_train['n_vehicles'])"
   ]
  },
  {
   "cell_type": "markdown",
   "metadata": {},
   "source": [
    "We can see that when more drivers share fewer vehicles, there are relative more positive outcome cases. Thus, we should feature engineer a new column represent the ratio of driver and vehicles."
   ]
  },
  {
   "cell_type": "code",
   "execution_count": 16,
   "metadata": {
    "collapsed": false
   },
   "outputs": [
    {
     "name": "stdout",
     "output_type": "stream",
     "text": [
      "all cases count\n",
      "0.5    1612\n",
      "1.0    3240\n",
      "1.5    1627\n",
      "2.0    1638\n",
      "3.0    1614\n",
      "Name: vehicles_per_driver, dtype: int64\n",
      "positive cases count\n",
      "0.5    390\n",
      "1.0    367\n",
      "1.5     89\n",
      "2.0     80\n",
      "3.0     47\n",
      "Name: vehicles_per_driver, dtype: int64\n"
     ]
    },
    {
     "data": {
      "image/png": "[encoded data removed]",
      "text/plain": [
       "<matplotlib.figure.Figure at 0x115deda10>"
      ]
     },
     "metadata": {},
     "output_type": "display_data"
    }
   ],
   "source": [
    "# adding a column 'vehicles_per_driver' to the existing dataframe.\n",
    "df_train['vehicles_per_driver'] = df_train['n_vehicles'] / df_train['n_drivers'].astype('float')\n",
    "df_positive['vehicles_per_driver'] = df_train['n_vehicles'] / df_train['n_drivers'].astype('float')\n",
    "\n",
    "stack_plot(df_train,df_positive,'vehicles_per_driver','blue', 'green')"
   ]
  },
  {
   "cell_type": "code",
   "execution_count": null,
   "metadata": {
    "collapsed": true
   },
   "outputs": [],
   "source": [
    "#check for class imbalance\n",
    "df_train['outcome'].value_counts()"
   ]
  },
  {
   "cell_type": "markdown",
   "metadata": {},
   "source": [
    "As shown, we have an imbalanced class of ratio roughly 9:1\n"
   ]
  },
  {
   "cell_type": "code",
   "execution_count": 18,
   "metadata": {
    "collapsed": false
   },
   "outputs": [
    {
     "data": {
      "text/html": [
       "<div>\n",
       "<table border=\"1\" class=\"dataframe\">\n",
       "  <thead>\n",
       "    <tr style=\"text-align: right;\">\n",
       "      <th></th>\n",
       "      <th>age</th>\n",
       "      <th>cost_of_ad</th>\n",
       "      <th>in_initial_launch_location</th>\n",
       "      <th>income</th>\n",
       "      <th>n_drivers</th>\n",
       "      <th>n_vehicles</th>\n",
       "      <th>prior_ins_tenure</th>\n",
       "      <th>outcome</th>\n",
       "      <th>vehicles_per_driver</th>\n",
       "      <th>gender_F</th>\n",
       "      <th>device_type_Android</th>\n",
       "      <th>device_type_desktop</th>\n",
       "      <th>device_type_iPhone</th>\n",
       "      <th>device_type_laptop</th>\n",
       "      <th>device_type_other</th>\n",
       "    </tr>\n",
       "  </thead>\n",
       "  <tbody>\n",
       "    <tr>\n",
       "      <th>0</th>\n",
       "      <td>56</td>\n",
       "      <td>0.005737</td>\n",
       "      <td>0</td>\n",
       "      <td>62717</td>\n",
       "      <td>2</td>\n",
       "      <td>1</td>\n",
       "      <td>4</td>\n",
       "      <td>0</td>\n",
       "      <td>0.5</td>\n",
       "      <td>0.0</td>\n",
       "      <td>0.0</td>\n",
       "      <td>0.0</td>\n",
       "      <td>1.0</td>\n",
       "      <td>0.0</td>\n",
       "      <td>0.0</td>\n",
       "    </tr>\n",
       "    <tr>\n",
       "      <th>1</th>\n",
       "      <td>50</td>\n",
       "      <td>0.004733</td>\n",
       "      <td>0</td>\n",
       "      <td>64328</td>\n",
       "      <td>2</td>\n",
       "      <td>3</td>\n",
       "      <td>2</td>\n",
       "      <td>0</td>\n",
       "      <td>1.5</td>\n",
       "      <td>1.0</td>\n",
       "      <td>0.0</td>\n",
       "      <td>1.0</td>\n",
       "      <td>0.0</td>\n",
       "      <td>0.0</td>\n",
       "      <td>0.0</td>\n",
       "    </tr>\n",
       "    <tr>\n",
       "      <th>2</th>\n",
       "      <td>54</td>\n",
       "      <td>0.004129</td>\n",
       "      <td>0</td>\n",
       "      <td>83439</td>\n",
       "      <td>1</td>\n",
       "      <td>3</td>\n",
       "      <td>7</td>\n",
       "      <td>0</td>\n",
       "      <td>3.0</td>\n",
       "      <td>0.0</td>\n",
       "      <td>0.0</td>\n",
       "      <td>0.0</td>\n",
       "      <td>0.0</td>\n",
       "      <td>1.0</td>\n",
       "      <td>0.0</td>\n",
       "    </tr>\n",
       "    <tr>\n",
       "      <th>3</th>\n",
       "      <td>16</td>\n",
       "      <td>0.005117</td>\n",
       "      <td>0</td>\n",
       "      <td>30110</td>\n",
       "      <td>2</td>\n",
       "      <td>3</td>\n",
       "      <td>0</td>\n",
       "      <td>0</td>\n",
       "      <td>1.5</td>\n",
       "      <td>1.0</td>\n",
       "      <td>1.0</td>\n",
       "      <td>0.0</td>\n",
       "      <td>0.0</td>\n",
       "      <td>0.0</td>\n",
       "      <td>0.0</td>\n",
       "    </tr>\n",
       "    <tr>\n",
       "      <th>4</th>\n",
       "      <td>37</td>\n",
       "      <td>0.003635</td>\n",
       "      <td>0</td>\n",
       "      <td>76565</td>\n",
       "      <td>2</td>\n",
       "      <td>1</td>\n",
       "      <td>5</td>\n",
       "      <td>0</td>\n",
       "      <td>0.5</td>\n",
       "      <td>0.0</td>\n",
       "      <td>0.0</td>\n",
       "      <td>1.0</td>\n",
       "      <td>0.0</td>\n",
       "      <td>0.0</td>\n",
       "      <td>0.0</td>\n",
       "    </tr>\n",
       "  </tbody>\n",
       "</table>\n",
       "</div>"
      ],
      "text/plain": [
       "   age  cost_of_ad  in_initial_launch_location  income  n_drivers  n_vehicles  \\\n",
       "0   56    0.005737                           0   62717          2           1   \n",
       "1   50    0.004733                           0   64328          2           3   \n",
       "2   54    0.004129                           0   83439          1           3   \n",
       "3   16    0.005117                           0   30110          2           3   \n",
       "4   37    0.003635                           0   76565          2           1   \n",
       "\n",
       "   prior_ins_tenure  outcome  vehicles_per_driver  gender_F  \\\n",
       "0                 4        0                  0.5       0.0   \n",
       "1                 2        0                  1.5       1.0   \n",
       "2                 7        0                  3.0       0.0   \n",
       "3                 0        0                  1.5       1.0   \n",
       "4                 5        0                  0.5       0.0   \n",
       "\n",
       "   device_type_Android  device_type_desktop  device_type_iPhone  \\\n",
       "0                  0.0                  0.0                 1.0   \n",
       "1                  0.0                  1.0                 0.0   \n",
       "2                  0.0                  0.0                 0.0   \n",
       "3                  1.0                  0.0                 0.0   \n",
       "4                  0.0                  1.0                 0.0   \n",
       "\n",
       "   device_type_laptop  device_type_other  \n",
       "0                 0.0                0.0  \n",
       "1                 0.0                0.0  \n",
       "2                 1.0                0.0  \n",
       "3                 0.0                0.0  \n",
       "4                 0.0                0.0  "
      ]
     },
     "execution_count": 18,
     "metadata": {},
     "output_type": "execute_result"
    }
   ],
   "source": [
    "#Transform categorical columns. 'in_initial_launch_location' is already numerical form. So we only transform \n",
    "#categorical columns 'gender' and 'device_type'\n",
    "cols_to_transform = [ 'gender','device_type']\n",
    "df_train = pd.get_dummies( df_train,columns = cols_to_transform )\n",
    "#since categorial column gender only takes on two values, we drop one.\n",
    "df_train.drop('gender_M', axis=1, inplace=True)\n",
    "\n",
    "df_train.head()"
   ]
  },
  {
   "cell_type": "code",
   "execution_count": 19,
   "metadata": {
    "collapsed": true
   },
   "outputs": [],
   "source": [
    "#set outcome label array\n",
    "y= df_train.pop('outcome').values\n",
    "#set feature matrix\n",
    "X = df_train.values"
   ]
  },
  {
   "cell_type": "markdown",
   "metadata": {},
   "source": [
    "## Resampling for Imbalanced Classes"
   ]
  },
  {
   "cell_type": "markdown",
   "metadata": {},
   "source": [
    "Since there are only nine features in the dataset and the spread of value is not large, we apply random undersampling technique on majority class for its simplicity and to avoid the possibility of overfitting introduced by random oversampling and SMOTE."
   ]
  },
  {
   "cell_type": "code",
   "execution_count": 20,
   "metadata": {
    "collapsed": true
   },
   "outputs": [],
   "source": [
    "from imblearn.under_sampling import RandomUnderSampler\n",
    "rus = RandomUnderSampler()\n",
    "X_sampled, y_sampled = rus.fit_sample(X, y)"
   ]
  },
  {
   "cell_type": "code",
   "execution_count": 24,
   "metadata": {
    "collapsed": false
   },
   "outputs": [
    {
     "name": "stdout",
     "output_type": "stream",
     "text": [
      "1946\n",
      "Counter({0: 973, 1: 973})\n"
     ]
    }
   ],
   "source": [
    "#check if oversampling is successful\n",
    "print len(y_sampled)\n",
    "print Counter(y_sampled)"
   ]
  },
  {
   "cell_type": "markdown",
   "metadata": {},
   "source": [
    "## Testing Initial Model "
   ]
  },
  {
   "cell_type": "markdown",
   "metadata": {},
   "source": [
    "Reason for using ROC _AUC as the scoring metric:\n",
    "1.ROC analysis allows us to select possibly optimal models withtou the need to specify the cost context.\n",
    "2.ROC curves also give us the ability to assess the performance of the classifier over its entire operating range\n",
    "\n",
    "The non-linear nature of the problem makes decision trees appealing. But, it makes sense to use an ensemble model (random forest, gradient boosting) to get the best performance."
   ]
  },
  {
   "cell_type": "code",
   "execution_count": 25,
   "metadata": {
    "collapsed": true
   },
   "outputs": [],
   "source": [
    "X_train, X_test, y_train, y_test = train_test_split(X_sampled, y_sampled, test_size=0.20, random_state=6, stratify=y)\n",
    "fix_fold = StratifiedKFold(6, random_state=1).get_n_splits() "
   ]
  },
  {
   "cell_type": "code",
   "execution_count": 26,
   "metadata": {
    "collapsed": false
   },
   "outputs": [
    {
     "name": "stdout",
     "output_type": "stream",
     "text": [
      "The cross-validated AUC for GradientBoostingClassifier is 0.822197 .\n"
     ]
    }
   ],
   "source": [
    "#training GradientBoostingClassifier\n",
    "gbc = GradientBoostingClassifier(n_estimators=500, max_depth=8, subsample=0.5, \n",
    "                                 max_features='auto', learning_rate=0.05,random_state=6)\n",
    "\n",
    "print 'The cross-validated AUC for GradientBoostingClassifier is {:.6f} .'.format(np.mean(cross_val_score(gbc, X_train, y_train, cv= fix_fold, scoring='roc_auc')))"
   ]
  },
  {
   "cell_type": "code",
   "execution_count": 27,
   "metadata": {
    "collapsed": false
   },
   "outputs": [
    {
     "name": "stdout",
     "output_type": "stream",
     "text": [
      "The cross-validated AUC for RandomForestClassifier is 0.839494 .\n"
     ]
    }
   ],
   "source": [
    "#training RandomForestClassifier\n",
    "rfc = RandomForestClassifier(n_estimators=500, n_jobs=-1, class_weight='auto')\n",
    "\n",
    "print 'The cross-validated AUC for RandomForestClassifier is {:.6f} .'.format(np.mean(cross_val_score(rfc, X_train, y_train, cv= fix_fold, scoring='roc_auc')))"
   ]
  },
  {
   "cell_type": "markdown",
   "metadata": {},
   "source": [
    "Random forest perform slightly better than the Gradient Boosting model. The performance is not too bad, but it might be better.\n",
    "Let try using grid search to find the best tuning parameters of each model."
   ]
  },
  {
   "cell_type": "markdown",
   "metadata": {
    "collapsed": false
   },
   "source": [
    "### Refine gradient boosting and random forest model via grid search"
   ]
  },
  {
   "cell_type": "code",
   "execution_count": 32,
   "metadata": {
    "collapsed": false
   },
   "outputs": [],
   "source": [
    "gbc_grid = {\n",
    "    'learning_rate': [1.0, 0.5, 0.01],\n",
    "    'max_depth': [1, 3, 8],\n",
    "    'min_samples_leaf': [3],\n",
    "    'max_features': ['sqrt', 'log2', None ],\n",
    "    'n_estimators': [500, 1000],\n",
    "    'subsample': [0.5, 0.75, 1.0]\n",
    "    }"
   ]
  },
  {
   "cell_type": "code",
   "execution_count": null,
   "metadata": {
    "collapsed": true
   },
   "outputs": [],
   "source": [
    "gbc_grid_cv = GridSearchCV(GradientBoostingClassifier(), gbc_grid, n_jobs=-1)\n",
    "gbc_grid_cv.fit(X_train, y_train)"
   ]
  },
  {
   "cell_type": "code",
   "execution_count": 67,
   "metadata": {
    "collapsed": false
   },
   "outputs": [
    {
     "name": "stdout",
     "output_type": "stream",
     "text": [
      "{'learning_rate': 0.01, 'min_samples_leaf': 3, 'n_estimators': 500, 'subsample': 1.0, 'max_features': 'log2', 'max_depth': 3}\n"
     ]
    }
   ],
   "source": [
    "best_model_gbc = gbc_grid_cv.best_estimator_\n",
    "best_params_gbc = gbc_grid_cv.best_params_\n",
    "print best_params_gbc"
   ]
  },
  {
   "cell_type": "code",
   "execution_count": 36,
   "metadata": {
    "collapsed": false
   },
   "outputs": [
    {
     "data": {
      "text/plain": [
       "0.85397295012679619"
      ]
     },
     "execution_count": 36,
     "metadata": {},
     "output_type": "execute_result"
    }
   ],
   "source": [
    "roc_auc_score(y_test, best_model.predict_proba(X_test)[:,1])"
   ]
  },
  {
   "cell_type": "code",
   "execution_count": 53,
   "metadata": {
    "collapsed": true
   },
   "outputs": [],
   "source": [
    "rf_grid = {\n",
    "    'max_depth': [4, 8, None],\n",
    "    'max_features': ['sqrt', 'log2', None],\n",
    "    'min_samples_split': [ 2, 4],\n",
    "    'min_samples_leaf': [1, 2, 4],\n",
    "    'bootstrap': [True, False],\n",
    "    'n_estimators': [50, 100, 200, 400],\n",
    "    }"
   ]
  },
  {
   "cell_type": "code",
   "execution_count": 54,
   "metadata": {
    "collapsed": true
   },
   "outputs": [],
   "source": [
    "rf_grid_cv = GridSearchCV(RandomForestClassifier(),rf_grid, scoring='roc_auc')\n",
    "rf_grid_cv.fit(X_train, y_train)"
   ]
  },
  {
   "cell_type": "code",
   "execution_count": 58,
   "metadata": {
    "collapsed": false
   },
   "outputs": [
    {
     "name": "stdout",
     "output_type": "stream",
     "text": [
      "{'learning_rate': 0.01, 'min_samples_leaf': 3, 'n_estimators': 500, 'subsample': 1.0, 'max_features': 'log2', 'max_depth': 3}\n"
     ]
    }
   ],
   "source": [
    "best_params_rf=rf_grid_cv.best_params_\n",
    "best_model_rf= rf_grid_cv.best_estimator_\n",
    "print best_params_rf"
   ]
  },
  {
   "cell_type": "code",
   "execution_count": 60,
   "metadata": {
    "collapsed": false
   },
   "outputs": [
    {
     "data": {
      "text/plain": [
       "0.85674661876584945"
      ]
     },
     "execution_count": 60,
     "metadata": {},
     "output_type": "execute_result"
    }
   ],
   "source": [
    "roc_auc_score(y_test, best_model_rf.predict_proba(X_test)[:,1])"
   ]
  },
  {
   "cell_type": "code",
   "execution_count": 75,
   "metadata": {
    "collapsed": false
   },
   "outputs": [
    {
     "data": {
      "text/plain": [
       "'RandomForestClassifier'"
      ]
     },
     "execution_count": 75,
     "metadata": {},
     "output_type": "execute_result"
    }
   ],
   "source": [
    "best_model_rf.__class__.__name__"
   ]
  },
  {
   "cell_type": "markdown",
   "metadata": {
    "collapsed": true
   },
   "source": [
    "## Area Under the Roc Curve Visualization"
   ]
  },
  {
   "cell_type": "code",
   "execution_count": 94,
   "metadata": {
    "collapsed": false
   },
   "outputs": [],
   "source": [
    "def plot_roc_curve(c1,c2):\n",
    "    c1_predict = c1.predict_proba(X_test)[:,1]\n",
    "    c2_predict = c2.predict_proba(X_test)[:,1]\n",
    "    tpr_classifier1, fpr_classifier1, thresholds_c1 = roc_curve(y_test,c1_predict)\n",
    "    tpr_classifier2, fpr_classifier2, thresholds_c2 = roc_curve(y_test,c2_predict)\n",
    "\n",
    "    plt.hold(True)\n",
    "    \n",
    "    plt.plot(1-fpr_classifier1, 1-tpr_classifier1, label='{0} ROC curve (AUC = {1:0.4f})'\n",
    "               ''.format(c1.__class__.__name__,roc_auc_score(y_test, c1_predict),\n",
    "         color='deeppink', linestyle=':', linewidth= 0.05))\n",
    "    \n",
    "    plt.plot(1-fpr_classifier2, 1-tpr_classifier2, label='{0} ROC curve (AUC = {1:0.4f})'\n",
    "               ''.format(c2.__class__.__name__,roc_auc_score(y_test, c2_predict),\n",
    "         color='navy', linewidth=0.05))\n",
    "\n",
    "    \n",
    "    plt.xlim([0.0, 1.0])\n",
    "    plt.ylim([0.0, 1.05])\n",
    "    plt.xlabel('False Positive Rate')\n",
    "    plt.ylabel('True Positive Rate')\n",
    "    plt.title('Comparison For Classifiers Receiver Operating Characteristic')\n",
    "    plt.legend(loc=\"lower right\")\n",
    "    plt.show()"
   ]
  },
  {
   "cell_type": "code",
   "execution_count": 95,
   "metadata": {
    "collapsed": false
   },
   "outputs": [
    {
     "data": {
      "image/png": "[encoded data removed]",
      "text/plain": [
       "<matplotlib.figure.Figure at 0x11a2a7f50>"
      ]
     },
     "metadata": {},
     "output_type": "display_data"
    }
   ],
   "source": [
    "plot_roc_curve(best_model_rf, best_model_gbc)"
   ]
  },
  {
   "cell_type": "markdown",
   "metadata": {},
   "source": [
    "In general, after tuning the hyper parameters of these two classifiers, the performance are very close. Different applicantions have different cost metric for the roc curve. Without the inforamtion about cost benefit matrix and given that the objective of the task is to maximize AUC, we choose to use RandomForest Classifier. Finally, we retrain the the model with the best tuned parameters on the whole training dataset we are given to leverage the initially 20% of data that we split as test data. \n",
    "\n",
    "The final prediction result on the test.csv is in a separate file called the prediction.csv file "
   ]
  },
  {
   "cell_type": "code",
   "execution_count": 112,
   "metadata": {
    "collapsed": true
   },
   "outputs": [],
   "source": []
  },
  {
   "cell_type": "code",
   "execution_count": null,
   "metadata": {
    "collapsed": false
   },
   "outputs": [],
   "source": []
  },
  {
   "cell_type": "markdown",
   "metadata": {
    "collapsed": false
   },
   "source": [
    "\n",
    "\n",
    "\n",
    "\n",
    "\n",
    "\n",
    "\n",
    "\n",
    "\n",
    "\n",
    "\n",
    "\n"
   ]
  },
  {
   "cell_type": "code",
   "execution_count": null,
   "metadata": {
    "collapsed": true
   },
   "outputs": [],
   "source": []
  }
 ],
 "metadata": {
  "anaconda-cloud": {},
  "kernelspec": {
   "display_name": "Python [conda root]",
   "language": "python",
   "name": "conda-root-py"
  },
  "language_info": {
   "codemirror_mode": {
    "name": "ipython",
    "version": 2
   },
   "file_extension": ".py",
   "mimetype": "text/x-python",
   "name": "python",
   "nbconvert_exporter": "python",
   "pygments_lexer": "ipython2",
   "version": "2.7.12"
  }
 },
 "nbformat": 4,
 "nbformat_minor": 1
}
